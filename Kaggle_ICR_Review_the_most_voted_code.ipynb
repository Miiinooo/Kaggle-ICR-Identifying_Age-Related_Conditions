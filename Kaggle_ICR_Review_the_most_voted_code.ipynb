{
  "cells": [
    {
      "cell_type": "markdown",
      "source": [
        "# Most vote(4th) Code Review"
      ],
      "metadata": {
        "id": "Oz3Qk_i1rStY"
      }
    },
    {
      "cell_type": "markdown",
      "source": [
        "**< 학습 코드 내용 >**\n",
        "\n",
        "notebook based on\n",
        "\n",
        "SAMUEL https://www.kaggle.com/code/muelsamu/simple-tabpfn-approach-for-score-of-15-in-1-min\n",
        "\n",
        "@nomuraryota https://www.kaggle.com/nomuraryota work\n",
        "\n",
        "- SAMUEL의 파일에 기초로 작성하였음"
      ],
      "metadata": {
        "id": "sNgOuho79S-2"
      }
    },
    {
      "cell_type": "markdown",
      "source": [
        "The approach contains the following components:\n",
        "\n",
        "1. Use an ensemble of TabPFN and (default) XGBoost\n",
        "2. Reweight the probabilites to match the balanced log loss used in this competition\n",
        "3. Use median nan imputation\n",
        "4. Use the time column from the training data, and use a time (max time in training) + 1 for test\n",
        "5. Use all four classes provided in greeks.Alpha and aggregate probabilites for the latter three classes, as they all correspond to different illnesses"
      ],
      "metadata": {
        "id": "GvmoT0pN9fWo"
      }
    },
    {
      "cell_type": "markdown",
      "source": [
        "**내용 해석**\n",
        "\n",
        "1. **TabPFN과 XGBoost를 사용**\n",
        "2. **이 경쟁에서 사용된 균형잡힌 로그 손실과 일치하도록 확률을 재가중합니다.**\n",
        "3. **NaN값을 대체하기 위해 중앙값 사용**\n",
        "4. **Training data에서는 시간열을 사용하고 Test에서는 Training의 최대시간에 +1을 사용**\n",
        "5. **Greeks에 있는 모든 4개의 Class를 사용할 것.**"
      ],
      "metadata": {
        "id": "DTfKCVer9hl4"
      }
    },
    {
      "cell_type": "code",
      "source": [
        "# UNCOMMENT first with internet option turned on\n",
        "# Use GPU env\n",
        "\n",
        "# !pip download tabpfn --no-deps -d pip-packages\n",
        "# !pip install tabpfn\n",
        "# from tabpfn import TabPFNClassifier\n",
        "# TabPFNClassifier(N_ensemble_configurations=64,device='cuda:0')\n",
        "\n",
        "# !mv /opt/conda/lib/python3.10/site-packages/tabpfn/models_diff/prior_diff_real_checkpoint_n_0_epoch_100.cpkt pip-packages/\n",
        "# !zip -r pip-packages.zip pip-packages\n",
        "\n",
        "# now you need to download the zip and upload it as dataset with the plus in the top left\n",
        "# then you need to add it to the notebook as data on the right, and name it `pip-packages-icr`"
      ],
      "metadata": {
        "id": "DGorcwlZ9rmh"
      },
      "execution_count": null,
      "outputs": []
    },
    {
      "cell_type": "markdown",
      "source": [
        "**내용 해석**\n",
        "\n",
        "- **인터넷이 켜진 상태에서 주석을 해제하고 GPU를 사용**\n",
        "1. **TabPFN 다운 및 Classifier 생성**\n",
        "    - **테이블 형식 데이터 예측을 수행하는 방법을 학습한 신경망 / 사이킷런 인터페이스로 구동할 수 있는 Colab을 개발(SamuelGabriel)**\n",
        "    - 참고 : https://github.com/automl/TabPFN\n",
        "2. **Zip파일 다운 후 Data Set을 Kaggle에 업로드**\n",
        "3. **신규 노트북을 추가하고 이름을 `pip-packages-icr`로 지정 후 아래와 같이 인터넷을 off한 후 아래 처럼 설치 진행할 것.**"
      ],
      "metadata": {
        "id": "c1x-QQCy9vYD"
      }
    },
    {
      "cell_type": "code",
      "source": [
        "!pip download tabpfn --no-deps -d pip-packages\n",
        "!pip install tabpfn\n",
        "from tabpfn import TabPFNClassifier\n",
        "TabPFNClassifier(N_ensemble_configurations=64,device='cuda:0')\n",
        "\n",
        "!mv /opt/conda/lib/python3.10/site-packages/tabpfn/models_diff/prior_diff_real_checkpoint_n_0_epoch_100.cpkt pip-packages/\n",
        "!zip -r pip-packages.zip pip-packages"
      ],
      "metadata": {
        "id": "93pOb6NmyDJ3",
        "colab": {
          "base_uri": "https://localhost:8080/"
        },
        "outputId": "99595298-9750-4503-e202-4da7719ede40"
      },
      "execution_count": null,
      "outputs": [
        {
          "output_type": "stream",
          "name": "stdout",
          "text": [
            "Collecting tabpfn\n",
            "  File was already downloaded /content/pip-packages/tabpfn-0.1.9-py3-none-any.whl\n",
            "Successfully downloaded tabpfn\n",
            "Requirement already satisfied: tabpfn in /usr/local/lib/python3.10/dist-packages (0.1.9)\n",
            "Requirement already satisfied: numpy>=1.21.2 in /usr/local/lib/python3.10/dist-packages (from tabpfn) (1.22.4)\n",
            "Requirement already satisfied: pyyaml>=5.4.1 in /usr/local/lib/python3.10/dist-packages (from tabpfn) (6.0)\n",
            "Requirement already satisfied: requests>=2.23.0 in /usr/local/lib/python3.10/dist-packages (from tabpfn) (2.27.1)\n",
            "Requirement already satisfied: scikit-learn>=0.24.2 in /usr/local/lib/python3.10/dist-packages (from tabpfn) (1.2.2)\n",
            "Requirement already satisfied: torch>=1.9.0 in /usr/local/lib/python3.10/dist-packages (from tabpfn) (2.0.1+cu118)\n",
            "Requirement already satisfied: urllib3<1.27,>=1.21.1 in /usr/local/lib/python3.10/dist-packages (from requests>=2.23.0->tabpfn) (1.26.16)\n",
            "Requirement already satisfied: certifi>=2017.4.17 in /usr/local/lib/python3.10/dist-packages (from requests>=2.23.0->tabpfn) (2023.5.7)\n",
            "Requirement already satisfied: charset-normalizer~=2.0.0 in /usr/local/lib/python3.10/dist-packages (from requests>=2.23.0->tabpfn) (2.0.12)\n",
            "Requirement already satisfied: idna<4,>=2.5 in /usr/local/lib/python3.10/dist-packages (from requests>=2.23.0->tabpfn) (3.4)\n",
            "Requirement already satisfied: scipy>=1.3.2 in /usr/local/lib/python3.10/dist-packages (from scikit-learn>=0.24.2->tabpfn) (1.10.1)\n",
            "Requirement already satisfied: joblib>=1.1.1 in /usr/local/lib/python3.10/dist-packages (from scikit-learn>=0.24.2->tabpfn) (1.2.0)\n",
            "Requirement already satisfied: threadpoolctl>=2.0.0 in /usr/local/lib/python3.10/dist-packages (from scikit-learn>=0.24.2->tabpfn) (3.1.0)\n",
            "Requirement already satisfied: filelock in /usr/local/lib/python3.10/dist-packages (from torch>=1.9.0->tabpfn) (3.12.2)\n",
            "Requirement already satisfied: typing-extensions in /usr/local/lib/python3.10/dist-packages (from torch>=1.9.0->tabpfn) (4.6.3)\n",
            "Requirement already satisfied: sympy in /usr/local/lib/python3.10/dist-packages (from torch>=1.9.0->tabpfn) (1.11.1)\n",
            "Requirement already satisfied: networkx in /usr/local/lib/python3.10/dist-packages (from torch>=1.9.0->tabpfn) (3.1)\n",
            "Requirement already satisfied: jinja2 in /usr/local/lib/python3.10/dist-packages (from torch>=1.9.0->tabpfn) (3.1.2)\n",
            "Requirement already satisfied: triton==2.0.0 in /usr/local/lib/python3.10/dist-packages (from torch>=1.9.0->tabpfn) (2.0.0)\n",
            "Requirement already satisfied: cmake in /usr/local/lib/python3.10/dist-packages (from triton==2.0.0->torch>=1.9.0->tabpfn) (3.25.2)\n",
            "Requirement already satisfied: lit in /usr/local/lib/python3.10/dist-packages (from triton==2.0.0->torch>=1.9.0->tabpfn) (16.0.6)\n",
            "Requirement already satisfied: MarkupSafe>=2.0 in /usr/local/lib/python3.10/dist-packages (from jinja2->torch>=1.9.0->tabpfn) (2.1.3)\n",
            "Requirement already satisfied: mpmath>=0.19 in /usr/local/lib/python3.10/dist-packages (from sympy->torch>=1.9.0->tabpfn) (1.3.0)\n",
            "\u001b[31mERROR: Operation cancelled by user\u001b[0m\u001b[31m\n",
            "\u001b[0mLoading model that can be used for inference only\n",
            "Using a Transformer with 25.82 M parameters\n",
            "mv: cannot stat '/opt/conda/lib/python3.10/site-packages/tabpfn/models_diff/prior_diff_real_checkpoint_n_0_epoch_100.cpkt': No such file or directory\n",
            "updating: pip-packages/ (stored 0%)\n",
            "updating: pip-packages/tabpfn-0.1.9-py3-none-any.whl (deflated 2%)\n"
          ]
        }
      ]
    },
    {
      "cell_type": "code",
      "source": [
        "!pip install tabpfn --no-index --find-links=file:///kaggle/input/pip-packages-icr/pip-packages"
      ],
      "metadata": {
        "id": "jX95ceMHjwy7",
        "colab": {
          "base_uri": "https://localhost:8080/"
        },
        "outputId": "e23d2968-72cd-44e2-f082-113f8b505e07"
      },
      "execution_count": null,
      "outputs": [
        {
          "output_type": "stream",
          "name": "stdout",
          "text": [
            "Looking in links: file:///kaggle/input/pip-packages-icr/pip-packages\n",
            "Requirement already satisfied: tabpfn in /usr/local/lib/python3.10/dist-packages (0.1.9)\n",
            "Requirement already satisfied: numpy>=1.21.2 in /usr/local/lib/python3.10/dist-packages (from tabpfn) (1.22.4)\n",
            "Requirement already satisfied: pyyaml>=5.4.1 in /usr/local/lib/python3.10/dist-packages (from tabpfn) (6.0)\n",
            "Requirement already satisfied: requests>=2.23.0 in /usr/local/lib/python3.10/dist-packages (from tabpfn) (2.27.1)\n",
            "Requirement already satisfied: scikit-learn>=0.24.2 in /usr/local/lib/python3.10/dist-packages (from tabpfn) (1.2.2)\n",
            "Requirement already satisfied: torch>=1.9.0 in /usr/local/lib/python3.10/dist-packages (from tabpfn) (2.0.1+cu118)\n",
            "Requirement already satisfied: urllib3<1.27,>=1.21.1 in /usr/local/lib/python3.10/dist-packages (from requests>=2.23.0->tabpfn) (1.26.16)\n",
            "Requirement already satisfied: certifi>=2017.4.17 in /usr/local/lib/python3.10/dist-packages (from requests>=2.23.0->tabpfn) (2023.5.7)\n",
            "Requirement already satisfied: charset-normalizer~=2.0.0 in /usr/local/lib/python3.10/dist-packages (from requests>=2.23.0->tabpfn) (2.0.12)\n",
            "Requirement already satisfied: idna<4,>=2.5 in /usr/local/lib/python3.10/dist-packages (from requests>=2.23.0->tabpfn) (3.4)\n",
            "Requirement already satisfied: scipy>=1.3.2 in /usr/local/lib/python3.10/dist-packages (from scikit-learn>=0.24.2->tabpfn) (1.10.1)\n",
            "Requirement already satisfied: joblib>=1.1.1 in /usr/local/lib/python3.10/dist-packages (from scikit-learn>=0.24.2->tabpfn) (1.2.0)\n",
            "Requirement already satisfied: threadpoolctl>=2.0.0 in /usr/local/lib/python3.10/dist-packages (from scikit-learn>=0.24.2->tabpfn) (3.1.0)\n",
            "Requirement already satisfied: filelock in /usr/local/lib/python3.10/dist-packages (from torch>=1.9.0->tabpfn) (3.12.2)\n",
            "Requirement already satisfied: typing-extensions in /usr/local/lib/python3.10/dist-packages (from torch>=1.9.0->tabpfn) (4.6.3)\n",
            "Requirement already satisfied: sympy in /usr/local/lib/python3.10/dist-packages (from torch>=1.9.0->tabpfn) (1.11.1)\n",
            "Requirement already satisfied: networkx in /usr/local/lib/python3.10/dist-packages (from torch>=1.9.0->tabpfn) (3.1)\n",
            "Requirement already satisfied: jinja2 in /usr/local/lib/python3.10/dist-packages (from torch>=1.9.0->tabpfn) (3.1.2)\n",
            "Requirement already satisfied: triton==2.0.0 in /usr/local/lib/python3.10/dist-packages (from torch>=1.9.0->tabpfn) (2.0.0)\n",
            "Requirement already satisfied: cmake in /usr/local/lib/python3.10/dist-packages (from triton==2.0.0->torch>=1.9.0->tabpfn) (3.25.2)\n",
            "Requirement already satisfied: lit in /usr/local/lib/python3.10/dist-packages (from triton==2.0.0->torch>=1.9.0->tabpfn) (16.0.6)\n",
            "Requirement already satisfied: MarkupSafe>=2.0 in /usr/local/lib/python3.10/dist-packages (from jinja2->torch>=1.9.0->tabpfn) (2.1.3)\n",
            "Requirement already satisfied: mpmath>=0.19 in /usr/local/lib/python3.10/dist-packages (from sympy->torch>=1.9.0->tabpfn) (1.3.0)\n"
          ]
        }
      ]
    },
    {
      "cell_type": "code",
      "source": [
        "!mkdir -p /opt/conda/lib/python3.10/site-packages/tabpfn/models_diff\n",
        "!cp /kaggle/input/pip-packages-icr/pip-packages/prior_diff_real_checkpoint_n_0_epoch_100.cpkt /opt/conda/lib/python3.10/site-packages/tabpfn/models_diff/"
      ],
      "metadata": {
        "id": "l4VBc_Ybp8pR",
        "colab": {
          "base_uri": "https://localhost:8080/"
        },
        "outputId": "ffa0c9f8-61f3-4634-df62-73036382f465"
      },
      "execution_count": null,
      "outputs": [
        {
          "output_type": "stream",
          "name": "stdout",
          "text": [
            "cp: cannot stat '/kaggle/input/pip-packages-icr/pip-packages/prior_diff_real_checkpoint_n_0_epoch_100.cpkt': No such file or directory\n"
          ]
        }
      ]
    },
    {
      "cell_type": "code",
      "execution_count": null,
      "metadata": {
        "id": "WzvK6t7Yjr1y"
      },
      "outputs": [],
      "source": [
        "# 데이터 분석에 필요한 라이브러리\n",
        "\n",
        "import numpy as np\n",
        "import pandas as pd\n",
        "import json\n",
        "from sklearn.base import BaseEstimator\n",
        "from sklearn.ensemble import RandomForestClassifier\n",
        "from sklearn.neural_network import MLPClassifier\n",
        "from sklearn.impute import SimpleImputer\n",
        "import xgboost\n",
        "from tabpfn import TabPFNClassifier\n",
        "from google.colab import drive\n",
        "\n",
        "# 표 출력 설\n",
        "pd.set_option('display.max_columns', None) # 최대열 수를 Max로\n",
        "pd.set_option('display.max_rows', None) # 최대행 수를 Max로\n",
        "\n",
        "import warnings\n",
        "warnings.filterwarnings(\"ignore\")\n"
      ]
    },
    {
      "cell_type": "code",
      "execution_count": null,
      "metadata": {
        "id": "hr0iATCmjr19",
        "colab": {
          "base_uri": "https://localhost:8080/"
        },
        "outputId": "e6dbeb54-0892-42d5-d47b-b105460ec743"
      },
      "outputs": [
        {
          "output_type": "stream",
          "name": "stdout",
          "text": [
            "Mounted at ./gdrive\n"
          ]
        }
      ],
      "source": [
        "# 데이터 파일 주소\n",
        "drive.mount('./gdrive', force_remount = True) # 구글드라이브로 마운트\n",
        "BASE_DIR = './gdrive/MyDrive/Colab Notebooks/icr-identify-age-related-conditions' # 기본 파일 주소\n",
        "train_file = f'{BASE_DIR}/train.csv'\n",
        "greeks_file = f'{BASE_DIR}/greeks.csv'\n",
        "test_file = f'{BASE_DIR}/test.csv'"
      ]
    },
    {
      "cell_type": "code",
      "execution_count": null,
      "metadata": {
        "id": "KqqaZRNKjr19",
        "colab": {
          "base_uri": "https://localhost:8080/"
        },
        "outputId": "9efbab79-7478-47f6-a320-da3668850836"
      },
      "outputs": [
        {
          "output_type": "stream",
          "name": "stderr",
          "text": [
            "/usr/local/lib/python3.10/dist-packages/ipykernel/ipkernel.py:283: DeprecationWarning: `should_run_async` will not call `transform_cell` automatically in the future. Please pass the result to `transformed_cell` argument and any exception that happen during thetransform in `preprocessing_exc_tuple` in IPython 7.17 and above.\n",
            "  and should_run_async(code)\n"
          ]
        }
      ],
      "source": [
        "# 데이터 파일 읽은 후, 데이터 프레임 생성\n",
        "\n",
        "train_df = pd.read_csv(train_file)\n",
        "greeks_df = pd.read_csv(greeks_file)\n",
        "test_df = pd.read_csv(test_file)"
      ]
    },
    {
      "cell_type": "code",
      "execution_count": null,
      "metadata": {
        "id": "iCIAC2Whjr1-",
        "colab": {
          "base_uri": "https://localhost:8080/"
        },
        "outputId": "c87726ba-8bff-4829-914d-8063e002f8b5"
      },
      "outputs": [
        {
          "output_type": "stream",
          "name": "stdout",
          "text": [
            "['B' 'A']\n"
          ]
        },
        {
          "output_type": "stream",
          "name": "stderr",
          "text": [
            "/usr/local/lib/python3.10/dist-packages/ipykernel/ipkernel.py:283: DeprecationWarning: `should_run_async` will not call `transform_cell` automatically in the future. Please pass the result to `transformed_cell` argument and any exception that happen during thetransform in `preprocessing_exc_tuple` in IPython 7.17 and above.\n",
            "  and should_run_async(code)\n"
          ]
        }
      ],
      "source": [
        "# 범주형 Column인 EJ값 및 수량 확인\n",
        "\n",
        "print(train_df.EJ.unique())"
      ]
    },
    {
      "cell_type": "code",
      "execution_count": null,
      "metadata": {
        "id": "CWb9IySxjr1-"
      },
      "outputs": [],
      "source": [
        "# 범주형 Column에 따른 0,1로 분류\n",
        "first_category = train_df.EJ.unique()[0]\n",
        "train_df.EJ = train_df.EJ.eq(first_category).astype('int')\n",
        "test_df.EJ = test_df.EJ.eq(first_category).astype('int')"
      ]
    },
    {
      "cell_type": "code",
      "execution_count": null,
      "metadata": {
        "id": "Ktb0IAKtjr1_"
      },
      "outputs": [],
      "source": [
        "# Greeks 데이터에서는 사용할 수 있는 시간 정보가 포함되어 있으며 int/NaN으로 구분 분석 가능\n",
        "\n",
        "from datetime import datetime\n",
        "times = greeks_df.Epsilon.copy() # Greeks 데이터에서 Epsilon(데이터가 수집된 날짜) 복사\n",
        "\n",
        "# 날짜, 시간 데이터에서 문자열 데이터로 변환(1년 1월 1일 이후 누적 날짜 수)\n",
        "times[greeks_df.Epsilon != 'Unknown'] = greeks_df.Epsilon[greeks_df.Epsilon != 'Unknown'].map(lambda x: datetime.strptime(x,'%m/%d/%Y').toordinal())\n",
        "times[greeks_df.Epsilon == 'Unknown'] = np.nan"
      ]
    },
    {
      "cell_type": "code",
      "execution_count": null,
      "metadata": {
        "id": "LNd5snYnjr1_"
      },
      "outputs": [],
      "source": [
        "# 예측 변수 및 대상 열 설정\n",
        "\n",
        "target_column = 'Class'\n",
        "\n",
        "# 'Class' 및 'id'열을 제외한 모든 열\n",
        "predictor_columns = [n for n in train_df.columns if n != target_column and n != 'Id']"
      ]
    },
    {
      "cell_type": "code",
      "execution_count": null,
      "metadata": {
        "id": "SMCveVLyjr1_"
      },
      "outputs": [],
      "source": [
        "# 앙상블 Class\n",
        "\n",
        "class WeightedEnsemble(BaseEstimator):\n",
        "    # 호출 함수\n",
        "    # self.imputer : 데이터 집합에서 누락된 데이터를 처리(누락된 값을 평균, 중앙값 또는 비번한 값 사용)\n",
        "    def __init__(self):\n",
        "        self.classifiers = [xgboost.XGBClassifier(), TabPFNClassifier(N_ensemble_configurations=64, device='cuda:0')]\n",
        "        self.imputer = SimpleImputer(missing_values=np.nan, strategy='median')\n",
        "\n",
        "    # 훈련 함수\n",
        "    def fit(self, X, y):\n",
        "        unique_classes, y = np.unique(y, return_inverse=True)\n",
        "        self.classes_ = unique_classes # A,B,C,D\n",
        "        X = self.imputer.fit_transform(X) # 결측치 조치 후 변환\n",
        "        for classifier in self.classifiers:\n",
        "            classifier.fit(X, y)\n",
        "\n",
        "    def predict_proba(self, X):\n",
        "        X = self.imputer.transform(X) # 결측치에 대해 처리\n",
        "        probabilities = np.stack([classifier.predict_proba(X) for classifier in self.classifiers])\n",
        "        averaged_probabilities = np.mean(probabilities, axis=0) # 확률값 평균\n",
        "        class_0_est_instances = averaged_probabilities[:, 0].sum() # 클래스 0에 대한 확률 합\n",
        "        others_est_instances = averaged_probabilities[:, 1:].sum() # 클래스 나머지에 대한 확률 합\n",
        "        # Class 불균형에 기반한 가중 확률\n",
        "        new_probabilities = averaged_probabilities * np.array([[1/(class_0_est_instances if i==0 else others_est_instances) for i in range(averaged_probabilities.shape[1])]])\n",
        "        return new_probabilities / np.sum(new_probabilities, axis=1, keepdims=1)"
      ]
    },
    {
      "cell_type": "markdown",
      "source": [
        "**Class 보충 내용**\n",
        "\n",
        "* Class : 데이터나 처리의 정의 등을 하나로 정리해둔 모형\n",
        "    - 장점\n",
        "        - Global 변수를 없애고, 모든 변수를 어떠한 Scope에 소속시킴\n",
        "        - 몇 번이고 재사용 가능\n",
        "        - 코드의 수정을 최소화\n",
        "        - 함수 실행중에, 함수 자신을 다시 호출하는 처리등이 가능\n",
        "    - Instance : Class에 정의된 데이터나 함수를 사용하기 위해 생성해야함\n",
        "        - 하나의 Class에 대해서 Instance는 여러 개 생성하는 것 가능\n",
        "        - 각각의 Instance에 각각 다른 데이터를 가지도록 할 수 있음\n",
        "    - Method : Class내에 기재되어 있는 함수를 뜻함\n",
        "    - Self : Class의 구성을 취득할 때에 정형의 구문\n",
        "    - __init__\n",
        "        - Constructor라고 불리는 초기화를 위한 함수(Method)\n",
        "        - Instance화를 실시할 때 반드시 처음에 호출되는 특수한 함수\n",
        "        - Object 생성(Instance를 생성)과 관련하여 데이터의 초기를 실시하는 함수"
      ],
      "metadata": {
        "id": "QYGOYJ1a_0NX"
      }
    },
    {
      "cell_type": "markdown",
      "source": [
        "**앙상블 보충내용**\n",
        "\n",
        "- 앙상블 : 여러 개의 머신러닝 모델을 이용해 최적의 답을 찾아내는 기법\n",
        "    - 여러 모델을 이용하여 데이터를 학습하고, 모든 모델의 예측결과를 평균하여 예측)\n",
        "- 앙상블 기법의 종류\n",
        "    - 보팅(Voting) : 투표를 통해 결과 도출\n",
        "    - 배깅(Bagging) : 샘플 중복 생성을 통해 결과 도출\n",
        "    - 부스팅(Boosting) : 이전 오차를 보완하면서 가중치 부여\n",
        "    - 스태킹(Stacking) : 여러 모델을 기반으로 예측된 결과를 통해 meta 모델이 다시 한번 예측\n",
        "- 부스팅(Boosting) : 약한 학습기를 순차적으로 학습을 하되, 이전 학습에 대하여 잘못 예측된 데이터에 가중치를 부여해 오차를 보완\n",
        "    - 순차적인 학습이기에 다른 앙상블 대비 학습 시간이 오래 걸림\n",
        "- XGBoost(eXtreme Gradient Boosting)\n",
        "    - 빠른 속도, 확장성, 이식성이 특징\n",
        "    - GBM(Gradient Boosting Machine)보다 빠르고 향상됨\n",
        "    - 파이썬 wrapper와 사이킷런 wrapper 두 가지 방법으로 구현가능\n",
        "        1. Filter Method : 어떤 통계량(주로 상관계수)로 변수 선택\n",
        "        2. Wrapper Method : 머신러닝 알고리즘에 변수 선택 / 성능 측정 및 반복하여 변수를 잡아가는 것\n",
        "        3. Embedded Method : 예측 및 최적화 모델링 안에서 변수가 결정"
      ],
      "metadata": {
        "id": "gQDM6dop_85H"
      }
    },
    {
      "cell_type": "code",
      "execution_count": null,
      "metadata": {
        "id": "FT2w5kNQjr2A"
      },
      "outputs": [],
      "source": [
        "# Train 데이터에서 예측 변수 및 시간 결합 / Test 데이터에서 예측 변수 및 시간 Zero화 후 Train 시간에 +1시간\n",
        "train_pred_and_time = pd.concat((train_df[predictor_columns], times), axis=1)\n",
        "test_predictors = np.array(test_df[predictor_columns])\n",
        "test_pred_and_time = np.concatenate((test_predictors, np.zeros((len(test_predictors), 1)) + train_pred_and_time.Epsilon.max() + 1), axis=1)"
      ]
    },
    {
      "cell_type": "code",
      "execution_count": null,
      "metadata": {
        "id": "U6_xHtqWjr2A",
        "colab": {
          "base_uri": "https://localhost:8080/"
        },
        "outputId": "cad551cf-ea7f-44ca-97b6-d9d5dfe7bd8a"
      },
      "outputs": [
        {
          "output_type": "stream",
          "name": "stdout",
          "text": [
            "Loading model that can be used for inference only\n",
            "Using a Transformer with 25.82 M parameters\n"
          ]
        }
      ],
      "source": [
        "# 모델 생성 및 훈련\n",
        "model = WeightedEnsemble()\n",
        "model.fit(np.array(train_pred_and_time), np.array(greeks_df['Alpha']))"
      ]
    },
    {
      "cell_type": "code",
      "execution_count": null,
      "metadata": {
        "id": "SWEenDzvjr2A"
      },
      "outputs": [],
      "source": [
        "# 예측 확률\n",
        "probabilities = model.predict_proba(test_pred_and_time)\n",
        "assert (model.classes_[0] == 'A')\n",
        "probabilities = np.concatenate((probabilities[:,:1], np.sum(probabilities[:,1:], 1, keepdims=True)), axis=1)"
      ]
    },
    {
      "cell_type": "code",
      "execution_count": null,
      "metadata": {
        "id": "no5B0xhkjr2A"
      },
      "outputs": [],
      "source": [
        "# 'A'의 확률값에 대한 범위 지정\n",
        "p0 = probabilities[:,:1]\n",
        "p0[p0 > 0.86] = 1\n",
        "p0[p0 < 0.14] = 0"
      ]
    },
    {
      "cell_type": "code",
      "execution_count": null,
      "metadata": {
        "id": "lZSZ3StXjr2A"
      },
      "outputs": [],
      "source": [
        "submission = pd.DataFrame(test_df[\"Id\"], columns=[\"Id\"])\n",
        "submission[\"class_0\"] = p0\n",
        "submission[\"class_1\"] = 1 - p0\n",
        "submission.to_csv('submission.csv', index=False)"
      ]
    },
    {
      "cell_type": "code",
      "execution_count": null,
      "metadata": {
        "id": "_7EA7zlujr2A",
        "colab": {
          "base_uri": "https://localhost:8080/",
          "height": 263
        },
        "outputId": "bfeaa69f-5046-4775-c853-84ef557ae202"
      },
      "outputs": [
        {
          "output_type": "stream",
          "name": "stderr",
          "text": [
            "/usr/local/lib/python3.10/dist-packages/ipykernel/ipkernel.py:283: DeprecationWarning: `should_run_async` will not call `transform_cell` automatically in the future. Please pass the result to `transformed_cell` argument and any exception that happen during thetransform in `preprocessing_exc_tuple` in IPython 7.17 and above.\n",
            "  and should_run_async(code)\n"
          ]
        },
        {
          "output_type": "execute_result",
          "data": {
            "text/plain": [
              "             Id  class_0  class_1\n",
              "0  00eed32682bb      0.5      0.5\n",
              "1  010ebe33f668      0.5      0.5\n",
              "2  02fa521e1838      0.5      0.5\n",
              "3  040e15f562a2      0.5      0.5\n",
              "4  046e85c7cc7f      0.5      0.5"
            ],
            "text/html": [
              "\n",
              "  <div id=\"df-a85c350f-ca25-4336-b8dd-2d1c821c961b\">\n",
              "    <div class=\"colab-df-container\">\n",
              "      <div>\n",
              "<style scoped>\n",
              "    .dataframe tbody tr th:only-of-type {\n",
              "        vertical-align: middle;\n",
              "    }\n",
              "\n",
              "    .dataframe tbody tr th {\n",
              "        vertical-align: top;\n",
              "    }\n",
              "\n",
              "    .dataframe thead th {\n",
              "        text-align: right;\n",
              "    }\n",
              "</style>\n",
              "<table border=\"1\" class=\"dataframe\">\n",
              "  <thead>\n",
              "    <tr style=\"text-align: right;\">\n",
              "      <th></th>\n",
              "      <th>Id</th>\n",
              "      <th>class_0</th>\n",
              "      <th>class_1</th>\n",
              "    </tr>\n",
              "  </thead>\n",
              "  <tbody>\n",
              "    <tr>\n",
              "      <th>0</th>\n",
              "      <td>00eed32682bb</td>\n",
              "      <td>0.5</td>\n",
              "      <td>0.5</td>\n",
              "    </tr>\n",
              "    <tr>\n",
              "      <th>1</th>\n",
              "      <td>010ebe33f668</td>\n",
              "      <td>0.5</td>\n",
              "      <td>0.5</td>\n",
              "    </tr>\n",
              "    <tr>\n",
              "      <th>2</th>\n",
              "      <td>02fa521e1838</td>\n",
              "      <td>0.5</td>\n",
              "      <td>0.5</td>\n",
              "    </tr>\n",
              "    <tr>\n",
              "      <th>3</th>\n",
              "      <td>040e15f562a2</td>\n",
              "      <td>0.5</td>\n",
              "      <td>0.5</td>\n",
              "    </tr>\n",
              "    <tr>\n",
              "      <th>4</th>\n",
              "      <td>046e85c7cc7f</td>\n",
              "      <td>0.5</td>\n",
              "      <td>0.5</td>\n",
              "    </tr>\n",
              "  </tbody>\n",
              "</table>\n",
              "</div>\n",
              "      <button class=\"colab-df-convert\" onclick=\"convertToInteractive('df-a85c350f-ca25-4336-b8dd-2d1c821c961b')\"\n",
              "              title=\"Convert this dataframe to an interactive table.\"\n",
              "              style=\"display:none;\">\n",
              "        \n",
              "  <svg xmlns=\"http://www.w3.org/2000/svg\" height=\"24px\"viewBox=\"0 0 24 24\"\n",
              "       width=\"24px\">\n",
              "    <path d=\"M0 0h24v24H0V0z\" fill=\"none\"/>\n",
              "    <path d=\"M18.56 5.44l.94 2.06.94-2.06 2.06-.94-2.06-.94-.94-2.06-.94 2.06-2.06.94zm-11 1L8.5 8.5l.94-2.06 2.06-.94-2.06-.94L8.5 2.5l-.94 2.06-2.06.94zm10 10l.94 2.06.94-2.06 2.06-.94-2.06-.94-.94-2.06-.94 2.06-2.06.94z\"/><path d=\"M17.41 7.96l-1.37-1.37c-.4-.4-.92-.59-1.43-.59-.52 0-1.04.2-1.43.59L10.3 9.45l-7.72 7.72c-.78.78-.78 2.05 0 2.83L4 21.41c.39.39.9.59 1.41.59.51 0 1.02-.2 1.41-.59l7.78-7.78 2.81-2.81c.8-.78.8-2.07 0-2.86zM5.41 20L4 18.59l7.72-7.72 1.47 1.35L5.41 20z\"/>\n",
              "  </svg>\n",
              "      </button>\n",
              "      \n",
              "  <style>\n",
              "    .colab-df-container {\n",
              "      display:flex;\n",
              "      flex-wrap:wrap;\n",
              "      gap: 12px;\n",
              "    }\n",
              "\n",
              "    .colab-df-convert {\n",
              "      background-color: #E8F0FE;\n",
              "      border: none;\n",
              "      border-radius: 50%;\n",
              "      cursor: pointer;\n",
              "      display: none;\n",
              "      fill: #1967D2;\n",
              "      height: 32px;\n",
              "      padding: 0 0 0 0;\n",
              "      width: 32px;\n",
              "    }\n",
              "\n",
              "    .colab-df-convert:hover {\n",
              "      background-color: #E2EBFA;\n",
              "      box-shadow: 0px 1px 2px rgba(60, 64, 67, 0.3), 0px 1px 3px 1px rgba(60, 64, 67, 0.15);\n",
              "      fill: #174EA6;\n",
              "    }\n",
              "\n",
              "    [theme=dark] .colab-df-convert {\n",
              "      background-color: #3B4455;\n",
              "      fill: #D2E3FC;\n",
              "    }\n",
              "\n",
              "    [theme=dark] .colab-df-convert:hover {\n",
              "      background-color: #434B5C;\n",
              "      box-shadow: 0px 1px 3px 1px rgba(0, 0, 0, 0.15);\n",
              "      filter: drop-shadow(0px 1px 2px rgba(0, 0, 0, 0.3));\n",
              "      fill: #FFFFFF;\n",
              "    }\n",
              "  </style>\n",
              "\n",
              "      <script>\n",
              "        const buttonEl =\n",
              "          document.querySelector('#df-a85c350f-ca25-4336-b8dd-2d1c821c961b button.colab-df-convert');\n",
              "        buttonEl.style.display =\n",
              "          google.colab.kernel.accessAllowed ? 'block' : 'none';\n",
              "\n",
              "        async function convertToInteractive(key) {\n",
              "          const element = document.querySelector('#df-a85c350f-ca25-4336-b8dd-2d1c821c961b');\n",
              "          const dataTable =\n",
              "            await google.colab.kernel.invokeFunction('convertToInteractive',\n",
              "                                                     [key], {});\n",
              "          if (!dataTable) return;\n",
              "\n",
              "          const docLinkHtml = 'Like what you see? Visit the ' +\n",
              "            '<a target=\"_blank\" href=https://colab.research.google.com/notebooks/data_table.ipynb>data table notebook</a>'\n",
              "            + ' to learn more about interactive tables.';\n",
              "          element.innerHTML = '';\n",
              "          dataTable['output_type'] = 'display_data';\n",
              "          await google.colab.output.renderOutput(dataTable, element);\n",
              "          const docLink = document.createElement('div');\n",
              "          docLink.innerHTML = docLinkHtml;\n",
              "          element.appendChild(docLink);\n",
              "        }\n",
              "      </script>\n",
              "    </div>\n",
              "  </div>\n",
              "  "
            ]
          },
          "metadata": {},
          "execution_count": 75
        }
      ],
      "source": [
        "submission_df = pd.read_csv('submission.csv')\n",
        "submission_df"
      ]
    }
  ],
  "metadata": {
    "kernelspec": {
      "display_name": "Python 3",
      "name": "python3"
    },
    "language_info": {
      "codemirror_mode": {
        "name": "ipython",
        "version": 3
      },
      "file_extension": ".py",
      "mimetype": "text/x-python",
      "name": "python",
      "nbconvert_exporter": "python",
      "pygments_lexer": "ipython3",
      "version": "3.9.0"
    },
    "orig_nbformat": 4,
    "colab": {
      "provenance": [],
      "gpuType": "T4"
    },
    "accelerator": "GPU"
  },
  "nbformat": 4,
  "nbformat_minor": 0
}